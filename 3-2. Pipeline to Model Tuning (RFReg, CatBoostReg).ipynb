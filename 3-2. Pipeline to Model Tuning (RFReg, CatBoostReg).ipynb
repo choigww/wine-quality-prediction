{
 "cells": [
  {
   "cell_type": "code",
   "execution_count": 12,
   "id": "continued-compound",
   "metadata": {},
   "outputs": [],
   "source": [
    "import pandas as pd\n",
    "import numpy as np\n",
    "\n",
    "# from sklearn.linear_model import LinearRegression\n",
    "# from sklearn import svm\n",
    "# from xgboost import XGBRegressor\n",
    "# from lightgbm import LGBMRegressor\n",
    "from catboost import CatBoostRegressor\n",
    "from sklearn.ensemble import RandomForestRegressor\n",
    "\n",
    "from sklearn.model_selection import train_test_split, GridSearchCV, RandomizedSearchCV\n",
    "from sklearn.model_selection import StratifiedKFold, KFold\n",
    "from sklearn.pipeline import Pipeline, make_pipeline\n",
    "from sklearn.preprocessing import MinMaxScaler, StandardScaler, RobustScaler\n",
    "from sklearn.neighbors import LocalOutlierFactor\n",
    "from sklearn.preprocessing import PolynomialFeatures\n",
    "from sklearn.feature_selection import RFE\n",
    "# from sklearn.linear_model import Ridge, Lasso\n",
    "from sklearn.decomposition import PCA\n",
    "from sklearn.manifold import TSNE\n",
    "from sklearn.discriminant_analysis import LinearDiscriminantAnalysis as LDA\n",
    "from scipy.stats import randint\n",
    "\n",
    "from skopt import BayesSearchCV\n",
    "from skopt.callbacks import DeadlineStopper, VerboseCallback, DeltaXStopper\n",
    "from skopt.space import Real, Categorical, Integer\n",
    "from time import time\n",
    "from scipy.stats import expon, reciprocal\n",
    "\n",
    "from sklearn.metrics import mean_squared_error\n",
    "from sklearn.metrics import make_scorer\n",
    "\n",
    "from matplotlib import pyplot as plt\n",
    "import pprint\n",
    "import warnings\n",
    "warnings.filterwarnings('ignore')"
   ]
  },
  {
   "cell_type": "code",
   "execution_count": null,
   "id": "studied-command",
   "metadata": {},
   "outputs": [],
   "source": []
  },
  {
   "cell_type": "markdown",
   "id": "derived-cooper",
   "metadata": {},
   "source": [
    "# Model Tuning: Preprocess to Hyperparameter Tuning\n",
    "CatBoost Regressor & RandomForest Regressor\n",
    "\n",
    "<br>\n",
    "\n",
    "## CatBoost Regressor\n",
    "\n",
    "<br>\n",
    "\n",
    "### Result\n",
    "- Best Cross Validation (StratifiedKFold, n_splits=5) MSE\n",
    "    - 0.395\n",
    "- Test MSE\n",
    "    - 0.423\n",
    "\n",
    "<br>\n",
    "\n",
    "### Setting\n",
    "- Local Outlier Factor\n",
    "    - `n_neighbors` = 30\n",
    "    - applied to non-stratified train set (MinMaxScaler)  \n",
    "- Pipeline\n",
    "\n",
    "```python\n",
    "# train set scaler = MinMaxScaler()\n",
    "OrderedDict([('bagging_temperature', 0.0),\n",
    "             ('border_count', 112),\n",
    "             ('depth', 8),\n",
    "             ('iterations', 918),\n",
    "             ('l2_leaf_reg', 26),\n",
    "             ('learning_rate', 0.03284111014718372),\n",
    "             ('random_strength', 6.959012504143357e-06)])\n",
    "```\n",
    "\n",
    "<br>\n",
    "\n",
    "### Model Performance in Detail\n",
    "- accuracy (반올림한 예측값과 실제 타깃이 같은 비율)\n",
    "    - 0.567\n",
    "- mse_by_target = 각 실제 타깃별로 계산한 MSE\n",
    "\n",
    "target|accuracy|mse_by_target\n",
    "-|-|-\n",
    "3|0.000000|3.901136\n",
    "4|0.000000|2.166643\n",
    "5|0.680851|0.237111\n",
    "6|0.608333|0.252474\n",
    "7|0.333333|0.725133\n",
    "8|0.000000|2.394219\n",
    "\n",
    "<br>\n",
    "\n",
    "## RandomForest Regressor\n",
    "\n",
    "<br>\n",
    "\n",
    "### Result\n",
    "- Best Cross Validation (StratifiedKFold, n_splits=5) MSE\n",
    "    - 0.396\n",
    "- Test MSE\n",
    "    - 0.484\n",
    "\n",
    "<br>\n",
    "\n",
    "### Setting\n",
    "- Local Outlier Factor\n",
    "    - `n_neighbors` = 23\n",
    "    - applied to stratified train set (StandardScaler)  \n",
    "- Pipeline\n",
    "\n",
    "```python\n",
    "# train set scaler = RobustScaler()\n",
    "\n",
    "OrderedDict([('bootstrap', True),\n",
    "             ('max_depth', 22),\n",
    "             ('max_features', 'sqrt'),\n",
    "             ('min_samples_leaf', 1),\n",
    "             ('min_samples_split', 2),\n",
    "             ('n_estimators', 1001)])\n",
    "```\n",
    "\n",
    "<br>\n",
    "\n",
    "### Model Performance in Detail\n",
    "- accuracy (반올림한 예측값과 실제 타깃이 같은 비율)\n",
    "    - 0.569\n",
    "- mse_by_target = 각 실제 타깃별로 계산한 MSE\n",
    "\n",
    "\n",
    "target|accuracy|mse_by_target\n",
    "-|-|-\n",
    "3|0.000000|3.817969\n",
    "4|0.000000|2.082316\n",
    "5|0.794643|0.216085\n",
    "6|0.504854|0.328223\n",
    "7|0.250000|0.960480\n",
    "8|0.000000|3.210739\n",
    "\n"
   ]
  },
  {
   "cell_type": "markdown",
   "id": "derived-phone",
   "metadata": {},
   "source": [
    "### Load Data"
   ]
  },
  {
   "cell_type": "code",
   "execution_count": 67,
   "id": "fifty-courtesy",
   "metadata": {},
   "outputs": [
    {
     "data": {
      "text/html": [
       "<div>\n",
       "<style scoped>\n",
       "    .dataframe tbody tr th:only-of-type {\n",
       "        vertical-align: middle;\n",
       "    }\n",
       "\n",
       "    .dataframe tbody tr th {\n",
       "        vertical-align: top;\n",
       "    }\n",
       "\n",
       "    .dataframe thead th {\n",
       "        text-align: right;\n",
       "    }\n",
       "</style>\n",
       "<table border=\"1\" class=\"dataframe\">\n",
       "  <thead>\n",
       "    <tr style=\"text-align: right;\">\n",
       "      <th></th>\n",
       "      <th>fixed acidity</th>\n",
       "      <th>volatile acidity</th>\n",
       "      <th>citric acid</th>\n",
       "      <th>residual sugar</th>\n",
       "      <th>chlorides</th>\n",
       "      <th>free sulfur dioxide</th>\n",
       "      <th>total sulfur dioxide</th>\n",
       "      <th>density</th>\n",
       "      <th>pH</th>\n",
       "      <th>sulphates</th>\n",
       "      <th>alcohol</th>\n",
       "      <th>quality</th>\n",
       "    </tr>\n",
       "  </thead>\n",
       "  <tbody>\n",
       "    <tr>\n",
       "      <th>0</th>\n",
       "      <td>7.8</td>\n",
       "      <td>0.88</td>\n",
       "      <td>0.00</td>\n",
       "      <td>2.6</td>\n",
       "      <td>0.098</td>\n",
       "      <td>25.0</td>\n",
       "      <td>67.0</td>\n",
       "      <td>0.9968</td>\n",
       "      <td>3.20</td>\n",
       "      <td>0.68</td>\n",
       "      <td>9.8</td>\n",
       "      <td>5</td>\n",
       "    </tr>\n",
       "    <tr>\n",
       "      <th>1</th>\n",
       "      <td>7.8</td>\n",
       "      <td>0.76</td>\n",
       "      <td>0.04</td>\n",
       "      <td>2.3</td>\n",
       "      <td>0.092</td>\n",
       "      <td>15.0</td>\n",
       "      <td>54.0</td>\n",
       "      <td>0.9970</td>\n",
       "      <td>3.26</td>\n",
       "      <td>0.65</td>\n",
       "      <td>9.8</td>\n",
       "      <td>5</td>\n",
       "    </tr>\n",
       "    <tr>\n",
       "      <th>2</th>\n",
       "      <td>11.2</td>\n",
       "      <td>0.28</td>\n",
       "      <td>0.56</td>\n",
       "      <td>1.9</td>\n",
       "      <td>0.075</td>\n",
       "      <td>17.0</td>\n",
       "      <td>60.0</td>\n",
       "      <td>0.9980</td>\n",
       "      <td>3.16</td>\n",
       "      <td>0.58</td>\n",
       "      <td>9.8</td>\n",
       "      <td>6</td>\n",
       "    </tr>\n",
       "  </tbody>\n",
       "</table>\n",
       "</div>"
      ],
      "text/plain": [
       "   fixed acidity  volatile acidity  citric acid  residual sugar  chlorides  \\\n",
       "0            7.8              0.88         0.00             2.6      0.098   \n",
       "1            7.8              0.76         0.04             2.3      0.092   \n",
       "2           11.2              0.28         0.56             1.9      0.075   \n",
       "\n",
       "   free sulfur dioxide  total sulfur dioxide  density    pH  sulphates  \\\n",
       "0                 25.0                  67.0   0.9968  3.20       0.68   \n",
       "1                 15.0                  54.0   0.9970  3.26       0.65   \n",
       "2                 17.0                  60.0   0.9980  3.16       0.58   \n",
       "\n",
       "   alcohol  quality  \n",
       "0      9.8        5  \n",
       "1      9.8        5  \n",
       "2      9.8        6  "
      ]
     },
     "execution_count": 67,
     "metadata": {},
     "output_type": "execute_result"
    }
   ],
   "source": [
    "# load data\n",
    "red = pd.read_csv('./data/winequality-red.csv', sep=';')\n",
    "red = red.drop_duplicates(keep='last', ignore_index=True)\n",
    "red.head(3)"
   ]
  },
  {
   "cell_type": "code",
   "execution_count": 68,
   "id": "powered-guess",
   "metadata": {},
   "outputs": [],
   "source": [
    "RANDOM_SEED = 2021\n",
    "\n",
    "def split_data(df, seed, stratify=True):\n",
    "        X = df.drop('quality',axis=1)\n",
    "        y = df['quality']\n",
    "        if stratify:\n",
    "            return train_test_split(X, y,\n",
    "                                    test_size=0.2,\n",
    "                                    stratify=y,\n",
    "                                    shuffle=True,\n",
    "                                    random_state=seed)\n",
    "        else:\n",
    "            return train_test_split(X, y,\n",
    "                                    test_size=0.2,\n",
    "                                    shuffle=True,\n",
    "                                    random_state=seed)"
   ]
  },
  {
   "cell_type": "code",
   "execution_count": 69,
   "id": "lined-multimedia",
   "metadata": {},
   "outputs": [],
   "source": [
    "X_train, X_test, y_train, y_test = split_data(red, seed=RANDOM_SEED, stratify=False)\n",
    "X_train2, X_test2, y_train2, y_test2 = split_data(red, seed=RANDOM_SEED, stratify=True)"
   ]
  },
  {
   "cell_type": "code",
   "execution_count": null,
   "id": "fluid-april",
   "metadata": {},
   "outputs": [],
   "source": []
  },
  {
   "cell_type": "markdown",
   "id": "piano-regular",
   "metadata": {},
   "source": [
    "# Tuning CatBoostRegressor"
   ]
  },
  {
   "cell_type": "code",
   "execution_count": 70,
   "id": "amateur-segment",
   "metadata": {},
   "outputs": [],
   "source": [
    "def random_grid_search_with_pipeline(Xtr, Xte, ytr, yte, pipe, params, iter_num, seed,\n",
    "                                     is_not_mute=1, stratify=True):\n",
    "    if stratify:\n",
    "        r_grid = RandomizedSearchCV(pipe, params,\n",
    "                             scoring = 'neg_mean_squared_error',\n",
    "                             cv=StratifiedKFold(n_splits=5,\n",
    "                                                  shuffle=True,\n",
    "                                                  random_state=seed),\n",
    "                             verbose=is_not_mute, n_jobs=-1, n_iter=iter_num, random_state=seed)\n",
    "    else:\n",
    "        r_grid = RandomizedSearchCV(pipe, params,\n",
    "                             scoring = 'neg_mean_squared_error',\n",
    "                             cv=KFold(n_splits=5,\n",
    "                                      shuffle=True,\n",
    "                                      random_state=seed),\n",
    "                             verbose=is_not_mute, n_jobs=-1, n_iter=iter_num, random_state=seed)\n",
    "    \n",
    "    r_grid.fit(Xtr, ytr)\n",
    "    if is_not_mute:\n",
    "        print(r_grid.best_params_)\n",
    "        print('Best CV MSE', -1 * r_grid.best_score_)\n",
    "        print('Test MSE', np.mean(np.square(r_grid.predict(Xte) - yte)))\n",
    "    return r_grid"
   ]
  },
  {
   "cell_type": "code",
   "execution_count": 71,
   "id": "sitting-stocks",
   "metadata": {},
   "outputs": [],
   "source": [
    "# LOF tuning\n",
    "def LOF_tuning(df, param_dict, pipe, pipe_param_dict, stratify = True, seed=RANDOM_SEED):\n",
    "    \n",
    "    Xtrain, Xtest, ytrain, ytest = split_data(df, seed=seed, stratify=stratify)\n",
    "    \n",
    "    # normalize data\n",
    "    X_scaler = param_dict['scaler']\n",
    "    X_train_std = X_scaler.fit_transform(Xtrain)\n",
    "    X_test_std = X_scaler.transform(Xtest)\n",
    "    \n",
    "    best_cv_score = 100\n",
    "    best_n_neighbors = 0\n",
    "    best_grid = ''\n",
    "    best_dataset = []\n",
    "    \n",
    "    # outlier removal using Local Outlier Factor\n",
    "    n_neighbors_list = param_dict['n_neighbors']\n",
    "    for i, nn in enumerate(n_neighbors_list):\n",
    "        lof = LocalOutlierFactor(n_neighbors=nn)\n",
    "        y_pred_std = lof.fit_predict(X_train_std)\n",
    "        outlier_idx = np.where(y_pred_std==-1)[0]\n",
    "        \n",
    "        X_train_lof, X_test_lof, y_train_lof, y_test_lof = split_data(df.drop(outlier_idx),\n",
    "                                                                     seed=seed,\n",
    "                                                                     stratify=stratify)        \n",
    "        rand_grid = random_grid_search_with_pipeline(X_train_lof,\n",
    "                                                     X_test_lof,\n",
    "                                                     y_train_lof,\n",
    "                                                     y_test_lof,\n",
    "                                                     pipe,\n",
    "                                                     pipe_param_dict,\n",
    "                                                     iter_num=1000,\n",
    "                                                     seed=seed,\n",
    "                                                     is_not_mute=0,\n",
    "                                                     stratify=stratify)\n",
    "    \n",
    "        if (-1 * rand_grid.best_score_) < best_cv_score:\n",
    "            best_cv_score = -1 * rand_grid.best_score_\n",
    "            best_grid = rand_grid\n",
    "            best_n_neighbors = nn\n",
    "            best_dataset = X_train_lof, X_test_lof, y_train_lof, y_test_lof\n",
    "            print(f'update: {best_cv_score}')\n",
    "        \n",
    "        if i % 10 == 0:\n",
    "            print('/', end=' ')\n",
    "        \n",
    "    return best_dataset, best_n_neighbors"
   ]
  },
  {
   "cell_type": "code",
   "execution_count": 72,
   "id": "artistic-double",
   "metadata": {},
   "outputs": [],
   "source": [
    "pipe_base = Pipeline([\n",
    "                ('scale', MinMaxScaler()),\n",
    "                ('regressor', CatBoostRegressor())\n",
    "                ])\n",
    "\n",
    "param_base = [              \n",
    "              {'regressor': [CatBoostRegressor()],\n",
    "               'regressor__loss_function' : ['RMSE'],\n",
    "               'regressor__silent':[True],\n",
    "                'regressor__random_state':[RANDOM_SEED],\n",
    "               'scale':[MinMaxScaler(), StandardScaler(), RobustScaler()],\n",
    "              }\n",
    "             ]"
   ]
  },
  {
   "cell_type": "code",
   "execution_count": 73,
   "id": "authentic-chapel",
   "metadata": {},
   "outputs": [
    {
     "name": "stdout",
     "output_type": "stream",
     "text": [
      "update: 0.43274947723274126\n",
      "/ update: 0.4224019349333469\n",
      "update: 0.4134534329460271\n",
      "/ update: 0.40446484347330935\n",
      "/ "
     ]
    }
   ],
   "source": [
    "lof_param_mms = {'scaler':MinMaxScaler(),\n",
    "            'n_neighbors':range(10, 40)}\n",
    "best_lof_data_mms, best_neighbor_param_mms = LOF_tuning(red, lof_param_mms,\n",
    "                                                        pipe_base, param_base,\n",
    "                                                        stratify=False)"
   ]
  },
  {
   "cell_type": "code",
   "execution_count": null,
   "id": "sharp-application",
   "metadata": {},
   "outputs": [],
   "source": []
  },
  {
   "cell_type": "code",
   "execution_count": 14,
   "id": "laden-vancouver",
   "metadata": {
    "scrolled": true
   },
   "outputs": [
    {
     "name": "stdout",
     "output_type": "stream",
     "text": [
      "update: 0.4336457575825608\n",
      "/ update: 0.42900641837758685\n",
      "update: 0.42631952771922715\n",
      "update: 0.4168671702102279\n",
      "update: 0.41003106528933053\n",
      "/ update: 0.40497030084265234\n",
      "/ "
     ]
    }
   ],
   "source": [
    "lof_param_ss = {'scaler':StandardScaler(),\n",
    "            'n_neighbors':range(10, 40)}\n",
    "best_lof_data_ss, best_neighbor_param_ss = LOF_tuning(red, lof_param_ss,\n",
    "                                                      pipe_base, param_base,\n",
    "                                                      stratify=False)"
   ]
  },
  {
   "cell_type": "code",
   "execution_count": null,
   "id": "choice-somerset",
   "metadata": {},
   "outputs": [],
   "source": []
  },
  {
   "cell_type": "code",
   "execution_count": 15,
   "id": "featured-uruguay",
   "metadata": {},
   "outputs": [
    {
     "name": "stdout",
     "output_type": "stream",
     "text": [
      "update: 0.4410327844659901\n",
      "/ update: 0.4389211206853398\n",
      "update: 0.4350800275736895\n",
      "update: 0.4183417887438073\n",
      "update: 0.4182084541760701\n",
      "/ update: 0.41093235501256214\n",
      "/ "
     ]
    }
   ],
   "source": [
    "lof_param_rs = {'scaler':RobustScaler(),\n",
    "            'n_neighbors':range(10, 40)}\n",
    "best_lof_data_rs, best_neighbor_param_rs = LOF_tuning(red, lof_param_rs,\n",
    "                                                      pipe_base, param_base,\n",
    "                                                      stratify=False)"
   ]
  },
  {
   "cell_type": "code",
   "execution_count": 75,
   "id": "exceptional-musical",
   "metadata": {},
   "outputs": [
    {
     "name": "stdout",
     "output_type": "stream",
     "text": [
      "30\n"
     ]
    }
   ],
   "source": [
    "# best n_neighbors = 30\n",
    "print(best_neighbor_param_mms)\n",
    "X_train_lof, X_test_lof, y_train_lof, y_test_lof = best_lof_data_mms"
   ]
  },
  {
   "cell_type": "code",
   "execution_count": null,
   "id": "unexpected-litigation",
   "metadata": {},
   "outputs": [],
   "source": []
  },
  {
   "cell_type": "markdown",
   "id": "flush-discretion",
   "metadata": {},
   "source": [
    "### Pipeline & Model Tuning"
   ]
  },
  {
   "cell_type": "code",
   "execution_count": 76,
   "id": "monetary-background",
   "metadata": {},
   "outputs": [
    {
     "name": "stdout",
     "output_type": "stream",
     "text": [
      "Fitting 5 folds for each of 3 candidates, totalling 15 fits\n"
     ]
    },
    {
     "name": "stderr",
     "output_type": "stream",
     "text": [
      "[Parallel(n_jobs=-1)]: Using backend LokyBackend with 4 concurrent workers.\n",
      "[Parallel(n_jobs=-1)]: Done  15 out of  15 | elapsed:   10.7s finished\n"
     ]
    },
    {
     "name": "stdout",
     "output_type": "stream",
     "text": [
      "{'scale': MinMaxScaler(copy=True, feature_range=(0, 1)), 'regressor__silent': True, 'regressor__random_state': 2021, 'regressor__loss_function': 'RMSE', 'regressor': <catboost.core.CatBoostRegressor object at 0x1a22448090>}\n",
      "Best CV MSE 0.45694873485709797\n",
      "Test MSE 0.37965734832707604\n"
     ]
    }
   ],
   "source": [
    "# original data (no LOF)\n",
    "# scaler opt only\n",
    "pipe_no_prep_opt = Pipeline([\n",
    "                ('scale', RobustScaler()),\n",
    "                ('regressor', CatBoostRegressor())\n",
    "                ])\n",
    "\n",
    "param_no_prep_opt = [              \n",
    "              {'regressor': [CatBoostRegressor()],\n",
    "               'regressor__silent':[True],\n",
    "                'regressor__random_state':[RANDOM_SEED],\n",
    "               'regressor__loss_function' : ['RMSE'],\n",
    "               'scale':[RobustScaler(), StandardScaler(), MinMaxScaler()],\n",
    "              }\n",
    "             ]\n",
    "\n",
    "r_grd_no_prep_opt0 = random_grid_search_with_pipeline(X_train, X_test, y_train, y_test,\n",
    "                                pipe_no_prep_opt, param_no_prep_opt, iter_num=100,\n",
    "                                                     seed=RANDOM_SEED,\n",
    "                                                    stratify=False)"
   ]
  },
  {
   "cell_type": "code",
   "execution_count": 77,
   "id": "cooperative-reservation",
   "metadata": {},
   "outputs": [
    {
     "name": "stdout",
     "output_type": "stream",
     "text": [
      "Fitting 5 folds for each of 3 candidates, totalling 15 fits\n"
     ]
    },
    {
     "name": "stderr",
     "output_type": "stream",
     "text": [
      "[Parallel(n_jobs=-1)]: Using backend LokyBackend with 4 concurrent workers.\n",
      "[Parallel(n_jobs=-1)]: Done  15 out of  15 | elapsed:   10.5s finished\n"
     ]
    },
    {
     "name": "stdout",
     "output_type": "stream",
     "text": [
      "{'scale': StandardScaler(copy=True, with_mean=True, with_std=True), 'regressor__silent': True, 'regressor__random_state': 2021, 'regressor__loss_function': 'RMSE', 'regressor': <catboost.core.CatBoostRegressor object at 0x1a21a7f510>}\n",
      "Best CV MSE 0.40446484347330935\n",
      "Test MSE 0.4400908780717685\n"
     ]
    }
   ],
   "source": [
    "# scaler opt only\n",
    "pipe_no_prep_opt = Pipeline([\n",
    "                ('scale', RobustScaler()),\n",
    "                ('regressor', CatBoostRegressor())\n",
    "                ])\n",
    "\n",
    "param_no_prep_opt = [              \n",
    "              {'regressor': [CatBoostRegressor()],\n",
    "               'regressor__silent':[True],\n",
    "                'regressor__random_state':[RANDOM_SEED],\n",
    "               'regressor__loss_function' : ['RMSE'],\n",
    "               'scale':[RobustScaler(), StandardScaler(), MinMaxScaler()],\n",
    "              }\n",
    "             ]\n",
    "\n",
    "r_grd_no_prep_opt = random_grid_search_with_pipeline(X_train_lof, X_test_lof, y_train_lof, y_test_lof,\n",
    "                                pipe_no_prep_opt, param_no_prep_opt, iter_num=100,\n",
    "                                                     seed=RANDOM_SEED,\n",
    "                                                    stratify=False)"
   ]
  },
  {
   "cell_type": "code",
   "execution_count": 78,
   "id": "sticky-gender",
   "metadata": {},
   "outputs": [
    {
     "data": {
      "text/plain": [
       "Text(0.5, 0, 'CatBoost Feature Importance')"
      ]
     },
     "execution_count": 78,
     "metadata": {},
     "output_type": "execute_result"
    },
    {
     "data": {
      "image/png": "[encoded data removed]",
      "text/plain": [
       "<Figure size 432x288 with 1 Axes>"
      ]
     },
     "metadata": {
      "needs_background": "light"
     },
     "output_type": "display_data"
    }
   ],
   "source": [
    "mms = MinMaxScaler()\n",
    "X_train_lof_mms = mms.fit_transform(X_train_lof)\n",
    "X_test_lof_mms = mms.transform(X_test_lof)\n",
    "\n",
    "cbr = CatBoostRegressor(silent=True, random_state=RANDOM_SEED, loss_function='RMSE')\n",
    "cbr.fit(X_train_lof_mms, y_train_lof)\n",
    "\n",
    "sorted_feature_importance = cbr.feature_importances_.argsort()\n",
    "plt.barh(red.drop('quality', axis=1).columns[sorted_feature_importance], \n",
    "        cbr.feature_importances_[sorted_feature_importance], \n",
    "        color='turquoise')\n",
    "plt.xlabel(\"CatBoost Feature Importance\")"
   ]
  },
  {
   "cell_type": "code",
   "execution_count": null,
   "id": "suffering-leonard",
   "metadata": {},
   "outputs": [],
   "source": []
  },
  {
   "cell_type": "code",
   "execution_count": null,
   "id": "small-sacramento",
   "metadata": {},
   "outputs": [],
   "source": []
  },
  {
   "cell_type": "markdown",
   "id": "minute-payday",
   "metadata": {},
   "source": [
    "### BayesianSearchCV -> 모델 하이퍼파라미터 튜닝"
   ]
  },
  {
   "cell_type": "code",
   "execution_count": 79,
   "id": "realistic-giant",
   "metadata": {},
   "outputs": [],
   "source": [
    "# Reporting util for different optimizers\n",
    "def report_perf(optimizer, X, y, title, callbacks=None):\n",
    "    start = time()\n",
    "    if callbacks:\n",
    "        optimizer.fit(X, y, callback=callbacks)\n",
    "    else:\n",
    "        optimizer.fit(X, y)\n",
    "    d=pd.DataFrame(optimizer.cv_results_)\n",
    "    best_score = optimizer.best_score_\n",
    "    best_score_std = d.iloc[optimizer.best_index_].std_test_score\n",
    "    best_params = optimizer.best_params_\n",
    "    \n",
    "    try:\n",
    "        print((title + \" - candidates checked: %d, best CV score: %.3f \"\n",
    "               +u\"\\u00B1\"+\" %.3f\") % (len(optimizer.cv_results_['params']),\n",
    "                                      best_score,\n",
    "                                      best_score_std))    \n",
    "        print('Best parameters:')\n",
    "        pprint.pprint(best_params)\n",
    "    except:\n",
    "        pass\n",
    "    \n",
    "    return optimizer, best_params"
   ]
  },
  {
   "cell_type": "code",
   "execution_count": 80,
   "id": "comparative-local",
   "metadata": {},
   "outputs": [],
   "source": [
    "reg = CatBoostRegressor(silent=True,\n",
    "                       loss_function='RMSE',\n",
    "                       random_state=RANDOM_SEED)\n",
    "\n",
    "param_catboost = [              \n",
    "              {'iterations': Integer(10, 1000),\n",
    "               'learning_rate': Real(0.01, 1.0, 'log-uniform'),\n",
    "               'random_strength': Real(1e-9, 10, 'log-uniform'),\n",
    "               'bagging_temperature': Real(0.0, 1.0),\n",
    "               'border_count': Integer(1, 255),\n",
    "               'depth' : Integer(2, 10),\n",
    "               'l2_leaf_reg' : Integer(2, 30)\n",
    "               }\n",
    "             ]\n",
    "\n",
    "kf = KFold(n_splits=5, shuffle=True, random_state=RANDOM_SEED)\n",
    "mse = make_scorer(mean_squared_error, greater_is_better=False)"
   ]
  },
  {
   "cell_type": "code",
   "execution_count": 32,
   "id": "labeled-telling",
   "metadata": {
    "scrolled": true
   },
   "outputs": [
    {
     "name": "stdout",
     "output_type": "stream",
     "text": [
      "Iteration No: 1 started. Searching for the next optimal point.\n",
      "Iteration No: 1 ended. Search finished for the next optimal point.\n",
      "Time taken: 0.1777\n",
      "Function value obtained: 0.4910\n",
      "Current minimum: 0.4910\n",
      "Iteration No: 2 started. Searching for the next optimal point.\n"
     ]
    },
    {
     "name": "stderr",
     "output_type": "stream",
     "text": [
      "Custom logger is already specified. Specify more than one logger at same time is not thread safe."
     ]
    },
    {
     "name": "stdout",
     "output_type": "stream",
     "text": [
      "Iteration No: 2 ended. Search finished for the next optimal point.\n",
      "Time taken: 0.3500\n",
      "Function value obtained: 0.5866\n",
      "Current minimum: 0.4910\n",
      "Iteration No: 3 started. Searching for the next optimal point.\n",
      "Iteration No: 3 ended. Search finished for the next optimal point.\n",
      "Time taken: 11.6414\n",
      "Function value obtained: 0.3977\n",
      "Current minimum: 0.3977\n",
      "Iteration No: 4 started. Searching for the next optimal point.\n",
      "Iteration No: 4 ended. Search finished for the next optimal point.\n",
      "Time taken: 0.8341\n",
      "Function value obtained: 0.4246\n",
      "Current minimum: 0.3977\n",
      "Iteration No: 5 started. Searching for the next optimal point.\n",
      "Iteration No: 5 ended. Search finished for the next optimal point.\n",
      "Time taken: 2.5725\n",
      "Function value obtained: 0.4913\n",
      "Current minimum: 0.3977\n",
      "Iteration No: 6 started. Searching for the next optimal point.\n",
      "Iteration No: 6 ended. Search finished for the next optimal point.\n",
      "Time taken: 0.1175\n",
      "Function value obtained: 0.4380\n",
      "Current minimum: 0.3977\n",
      "Iteration No: 7 started. Searching for the next optimal point.\n",
      "Iteration No: 7 ended. Search finished for the next optimal point.\n",
      "Time taken: 0.8127\n",
      "Function value obtained: 0.6164\n",
      "Current minimum: 0.3977\n",
      "Iteration No: 8 started. Searching for the next optimal point.\n",
      "Iteration No: 8 ended. Search finished for the next optimal point.\n",
      "Time taken: 1.2111\n",
      "Function value obtained: 0.4079\n",
      "Current minimum: 0.3977\n",
      "Iteration No: 9 started. Searching for the next optimal point.\n",
      "Iteration No: 9 ended. Search finished for the next optimal point.\n",
      "Time taken: 2.4178\n",
      "Function value obtained: 0.4028\n",
      "Current minimum: 0.3977\n",
      "Iteration No: 10 started. Searching for the next optimal point.\n",
      "Iteration No: 10 ended. Search finished for the next optimal point.\n",
      "Time taken: 0.9203\n",
      "Function value obtained: 0.5648\n",
      "Current minimum: 0.3977\n",
      "Iteration No: 11 started. Searching for the next optimal point.\n",
      "Iteration No: 11 ended. Search finished for the next optimal point.\n",
      "Time taken: 5.8076\n",
      "Function value obtained: 0.3995\n",
      "Current minimum: 0.3977\n",
      "Iteration No: 12 started. Searching for the next optimal point.\n",
      "Iteration No: 12 ended. Search finished for the next optimal point.\n",
      "Time taken: 10.5179\n",
      "Function value obtained: 0.3954\n",
      "Current minimum: 0.3954\n",
      "Iteration No: 13 started. Searching for the next optimal point.\n",
      "Iteration No: 13 ended. Search finished for the next optimal point.\n",
      "Time taken: 4.9327\n",
      "Function value obtained: 0.4153\n",
      "Current minimum: 0.3954\n",
      "Iteration No: 14 started. Searching for the next optimal point.\n",
      "Iteration No: 14 ended. Search finished for the next optimal point.\n",
      "Time taken: 1.7362\n",
      "Function value obtained: 0.4350\n",
      "Current minimum: 0.3954\n",
      "Iteration No: 15 started. Searching for the next optimal point.\n",
      "Iteration No: 15 ended. Search finished for the next optimal point.\n",
      "Time taken: 2.7956\n",
      "Function value obtained: 0.4147\n",
      "Current minimum: 0.3954\n",
      "Iteration No: 16 started. Searching for the next optimal point.\n",
      "Iteration No: 16 ended. Search finished for the next optimal point.\n",
      "Time taken: 49.6593\n",
      "Function value obtained: 0.4004\n",
      "Current minimum: 0.3954\n",
      "Iteration No: 17 started. Searching for the next optimal point.\n",
      "Iteration No: 17 ended. Search finished for the next optimal point.\n",
      "Time taken: 55.1357\n",
      "Function value obtained: 0.3963\n",
      "Current minimum: 0.3954\n",
      "Iteration No: 18 started. Searching for the next optimal point.\n",
      "Iteration No: 18 ended. Search finished for the next optimal point.\n",
      "Time taken: 1.8480\n",
      "Function value obtained: 0.4146\n",
      "Current minimum: 0.3954\n",
      "Iteration No: 19 started. Searching for the next optimal point.\n",
      "Iteration No: 19 ended. Search finished for the next optimal point.\n",
      "Time taken: 57.3724\n",
      "Function value obtained: 0.4043\n",
      "Current minimum: 0.3954\n",
      "Iteration No: 20 started. Searching for the next optimal point.\n",
      "Iteration No: 20 ended. Search finished for the next optimal point.\n",
      "Time taken: 2.3225\n",
      "Function value obtained: 0.4081\n",
      "Current minimum: 0.3954\n",
      "Iteration No: 21 started. Searching for the next optimal point.\n",
      "Iteration No: 21 ended. Search finished for the next optimal point.\n",
      "Time taken: 31.1770\n",
      "Function value obtained: 0.5191\n",
      "Current minimum: 0.3954\n",
      "Iteration No: 22 started. Searching for the next optimal point.\n",
      "Iteration No: 22 ended. Search finished for the next optimal point.\n",
      "Time taken: 1.4566\n",
      "Function value obtained: 0.4456\n",
      "Current minimum: 0.3954\n",
      "Iteration No: 23 started. Searching for the next optimal point.\n",
      "Iteration No: 23 ended. Search finished for the next optimal point.\n",
      "Time taken: 3.0955\n",
      "Function value obtained: 0.4101\n",
      "Current minimum: 0.3954\n",
      "Iteration No: 24 started. Searching for the next optimal point.\n",
      "Iteration No: 24 ended. Search finished for the next optimal point.\n",
      "Time taken: 44.5962\n",
      "Function value obtained: 0.4042\n",
      "Current minimum: 0.3954\n",
      "Iteration No: 25 started. Searching for the next optimal point.\n",
      "Iteration No: 25 ended. Search finished for the next optimal point.\n",
      "Time taken: 37.2966\n",
      "Function value obtained: 0.5555\n",
      "Current minimum: 0.3954\n",
      "Iteration No: 26 started. Searching for the next optimal point.\n",
      "Iteration No: 26 ended. Search finished for the next optimal point.\n",
      "Time taken: 2.3781\n",
      "Function value obtained: 0.6557\n",
      "Current minimum: 0.3954\n",
      "Iteration No: 27 started. Searching for the next optimal point.\n",
      "Iteration No: 27 ended. Search finished for the next optimal point.\n",
      "Time taken: 42.0708\n",
      "Function value obtained: 0.4081\n",
      "Current minimum: 0.3954\n",
      "Iteration No: 28 started. Searching for the next optimal point.\n",
      "Iteration No: 28 ended. Search finished for the next optimal point.\n",
      "Time taken: 5.8729\n",
      "Function value obtained: 0.4131\n",
      "Current minimum: 0.3954\n",
      "Iteration No: 29 started. Searching for the next optimal point.\n",
      "Iteration No: 29 ended. Search finished for the next optimal point.\n",
      "Time taken: 53.1507\n",
      "Function value obtained: 0.4023\n",
      "Current minimum: 0.3954\n",
      "Iteration No: 30 started. Searching for the next optimal point.\n",
      "Iteration No: 30 ended. Search finished for the next optimal point.\n",
      "Time taken: 9.5455\n",
      "Function value obtained: 0.4939\n",
      "Current minimum: 0.3954\n",
      "Iteration No: 31 started. Searching for the next optimal point.\n",
      "Iteration No: 31 ended. Search finished for the next optimal point.\n",
      "Time taken: 2.3691\n",
      "Function value obtained: 0.4067\n",
      "Current minimum: 0.3954\n",
      "Iteration No: 32 started. Searching for the next optimal point.\n",
      "Iteration No: 32 ended. Search finished for the next optimal point.\n",
      "Time taken: 5.4653\n",
      "Function value obtained: 0.4059\n",
      "Current minimum: 0.3954\n",
      "Iteration No: 33 started. Searching for the next optimal point.\n",
      "Iteration No: 33 ended. Search finished for the next optimal point.\n",
      "Time taken: 39.2995\n",
      "Function value obtained: 0.4086\n",
      "Current minimum: 0.3954\n",
      "Iteration No: 34 started. Searching for the next optimal point.\n",
      "Iteration No: 34 ended. Search finished for the next optimal point.\n",
      "Time taken: 6.4458\n",
      "Function value obtained: 0.4707\n",
      "Current minimum: 0.3954\n",
      "Iteration No: 35 started. Searching for the next optimal point.\n",
      "Iteration No: 35 ended. Search finished for the next optimal point.\n",
      "Time taken: 2.7896\n",
      "Function value obtained: 0.4216\n",
      "Current minimum: 0.3954\n",
      "Iteration No: 36 started. Searching for the next optimal point.\n",
      "Iteration No: 36 ended. Search finished for the next optimal point.\n",
      "Time taken: 59.8218\n",
      "Function value obtained: 0.4001\n",
      "Current minimum: 0.3954\n",
      "Iteration No: 37 started. Searching for the next optimal point.\n",
      "CatBoost - candidates checked: 36, best CV score: -0.395 ± 0.068\n",
      "Best parameters:\n",
      "OrderedDict([('bagging_temperature', 0.0),\n",
      "             ('border_count', 112),\n",
      "             ('depth', 8),\n",
      "             ('iterations', 918),\n",
      "             ('l2_leaf_reg', 26),\n",
      "             ('learning_rate', 0.03284111014718372),\n",
      "             ('random_strength', 6.959012504143357e-06)])\n"
     ]
    }
   ],
   "source": [
    "N_ITER = 100\n",
    "\n",
    "opt = BayesSearchCV(reg,\n",
    "                    param_catboost,\n",
    "                     scoring=mse,\n",
    "                    cv=kf,\n",
    "                    n_iter=N_ITER,\n",
    "                    n_jobs=1,  # use just 1 job with CatBoost in order to avoid segmentation fault\n",
    "                    return_train_score=False,\n",
    "                    refit=True,\n",
    "                    optimizer_kwargs={'base_estimator': 'GP'},\n",
    "                    random_state=RANDOM_SEED,\n",
    "                   verbose=0)\n",
    "\n",
    "optimizer, best_params = report_perf(opt, X_train_lof_mms, y_train_lof, 'CatBoost', \n",
    "                          callbacks=[VerboseCallback(100), \n",
    "                                     DeadlineStopper(60*10)])"
   ]
  },
  {
   "cell_type": "code",
   "execution_count": 33,
   "id": "negative-allergy",
   "metadata": {},
   "outputs": [
    {
     "data": {
      "text/plain": [
       "0.39541721912317396"
      ]
     },
     "execution_count": 33,
     "metadata": {},
     "output_type": "execute_result"
    }
   ],
   "source": [
    "-1 * optimizer.best_score_"
   ]
  },
  {
   "cell_type": "code",
   "execution_count": 34,
   "id": "changing-architect",
   "metadata": {},
   "outputs": [
    {
     "data": {
      "text/plain": [
       "OrderedDict([('bagging_temperature', 0.0),\n",
       "             ('border_count', 112),\n",
       "             ('depth', 8),\n",
       "             ('iterations', 918),\n",
       "             ('l2_leaf_reg', 26),\n",
       "             ('learning_rate', 0.03284111014718372),\n",
       "             ('random_strength', 6.959012504143357e-06)])"
      ]
     },
     "execution_count": 34,
     "metadata": {},
     "output_type": "execute_result"
    }
   ],
   "source": [
    "best_params"
   ]
  },
  {
   "cell_type": "code",
   "execution_count": 82,
   "id": "present-thickness",
   "metadata": {},
   "outputs": [],
   "source": [
    "from collections import OrderedDict\n",
    "best_params_cbr = OrderedDict([('bagging_temperature', 0.0),\n",
    "                             ('border_count', 112),\n",
    "                             ('depth', 8),\n",
    "                             ('iterations', 918),\n",
    "                             ('l2_leaf_reg', 26),\n",
    "                             ('learning_rate', 0.03284111014718372),\n",
    "                             ('random_strength', 6.959012504143357e-06)])"
   ]
  },
  {
   "cell_type": "code",
   "execution_count": 83,
   "id": "confirmed-channels",
   "metadata": {},
   "outputs": [
    {
     "name": "stdout",
     "output_type": "stream",
     "text": [
      "0.42867967032629933\n"
     ]
    }
   ],
   "source": [
    "best_reg = CatBoostRegressor(**best_params_cbr,\n",
    "                        silent=True,\n",
    "                       loss_function='RMSE',\n",
    "                       random_state=RANDOM_SEED)\n",
    "\n",
    "best_reg.fit(X_train_lof_mms, y_train_lof)\n",
    "best_pred = best_reg.predict(X_test_lof_mms)\n",
    "\n",
    "print(np.mean(np.square(best_pred - y_test_lof)))"
   ]
  },
  {
   "cell_type": "code",
   "execution_count": null,
   "id": "continental-closer",
   "metadata": {},
   "outputs": [],
   "source": []
  },
  {
   "cell_type": "markdown",
   "id": "advisory-essex",
   "metadata": {},
   "source": [
    "### Result Analysis"
   ]
  },
  {
   "cell_type": "code",
   "execution_count": 106,
   "id": "attempted-airline",
   "metadata": {},
   "outputs": [],
   "source": [
    "def result_analysis(y_hat, y):\n",
    "    # 반올림한 예측값을 사용하여 accuracy 계산\n",
    "    acc = np.sum(np.round(y_hat) == np.array(y)) / len(y)\n",
    "    \n",
    "    # 반올림한 예측값과 실제 타깃이 같지 않은 인덱스\n",
    "    pred_false_index = pd.Series(np.round(y_hat) == np.array(y)) == False\n",
    "    \n",
    "    # 모델이 맞추는 데 실패한 타깃의 실제 값\n",
    "    pred_false_target = pd.Series(y).reset_index(drop=True)[pred_false_index]\n",
    "    \n",
    "    # 타깃 값(3,4,...,8) 별 갯수\n",
    "    false_target_vc = pred_false_target.value_counts()\n",
    "    real_target_vc = y.value_counts()\n",
    "    \n",
    "    # 타깃 값 별로 반올림한 예측값이 동일할 확률을 데이터프레임으로 저장\n",
    "    df_acc = pd.DataFrame(1-(false_target_vc / real_target_vc)).rename(columns={'quality':'accuracy'})\n",
    "    \n",
    "    # 각 타깃 값(3,4,...,8) 별로 각각의 MSE를 계산하여 저장\n",
    "    mask_target_by_unq = [(np.array(y)==unq_target) for unq_target in np.unique(y)]\n",
    "    mse_by_target = []\n",
    "    \n",
    "    for idx in df_acc.index.tolist():\n",
    "        mask = mask_target_by_unq[idx-3]\n",
    "        target_masked = np.array(y)[mask]\n",
    "        pred_masked = np.array(y_hat)[mask]\n",
    "        mse = np.mean(np.square(pred_masked - target_masked))\n",
    "        mse_by_target.append(mse)\n",
    "\n",
    "    df_acc['mse_by_target'] = mse_by_target\n",
    "    \n",
    "    return df_acc.sort_index(), acc"
   ]
  },
  {
   "cell_type": "code",
   "execution_count": 107,
   "id": "executed-chemistry",
   "metadata": {},
   "outputs": [
    {
     "name": "stdout",
     "output_type": "stream",
     "text": [
      "0.5665399239543726\n"
     ]
    },
    {
     "data": {
      "text/html": [
       "<div>\n",
       "<style scoped>\n",
       "    .dataframe tbody tr th:only-of-type {\n",
       "        vertical-align: middle;\n",
       "    }\n",
       "\n",
       "    .dataframe tbody tr th {\n",
       "        vertical-align: top;\n",
       "    }\n",
       "\n",
       "    .dataframe thead th {\n",
       "        text-align: right;\n",
       "    }\n",
       "</style>\n",
       "<table border=\"1\" class=\"dataframe\">\n",
       "  <thead>\n",
       "    <tr style=\"text-align: right;\">\n",
       "      <th></th>\n",
       "      <th>accuracy</th>\n",
       "      <th>mse_by_target</th>\n",
       "    </tr>\n",
       "  </thead>\n",
       "  <tbody>\n",
       "    <tr>\n",
       "      <th>3</th>\n",
       "      <td>0.000000</td>\n",
       "      <td>3.901136</td>\n",
       "    </tr>\n",
       "    <tr>\n",
       "      <th>4</th>\n",
       "      <td>0.000000</td>\n",
       "      <td>2.166643</td>\n",
       "    </tr>\n",
       "    <tr>\n",
       "      <th>5</th>\n",
       "      <td>0.680851</td>\n",
       "      <td>0.237111</td>\n",
       "    </tr>\n",
       "    <tr>\n",
       "      <th>6</th>\n",
       "      <td>0.608333</td>\n",
       "      <td>0.252474</td>\n",
       "    </tr>\n",
       "    <tr>\n",
       "      <th>7</th>\n",
       "      <td>0.333333</td>\n",
       "      <td>0.725133</td>\n",
       "    </tr>\n",
       "    <tr>\n",
       "      <th>8</th>\n",
       "      <td>0.000000</td>\n",
       "      <td>2.394219</td>\n",
       "    </tr>\n",
       "  </tbody>\n",
       "</table>\n",
       "</div>"
      ],
      "text/plain": [
       "   accuracy  mse_by_target\n",
       "3  0.000000       3.901136\n",
       "4  0.000000       2.166643\n",
       "5  0.680851       0.237111\n",
       "6  0.608333       0.252474\n",
       "7  0.333333       0.725133\n",
       "8  0.000000       2.394219"
      ]
     },
     "execution_count": 107,
     "metadata": {},
     "output_type": "execute_result"
    }
   ],
   "source": [
    "df_acc, acc = result_analysis(best_pred, y_test_lof)\n",
    "\n",
    "print(acc)\n",
    "df_acc"
   ]
  },
  {
   "cell_type": "code",
   "execution_count": null,
   "id": "extensive-reducing",
   "metadata": {},
   "outputs": [],
   "source": []
  },
  {
   "cell_type": "markdown",
   "id": "numerous-scotland",
   "metadata": {},
   "source": [
    "# Tuning RandomForestRegressor"
   ]
  },
  {
   "cell_type": "code",
   "execution_count": 44,
   "id": "circular-pride",
   "metadata": {},
   "outputs": [],
   "source": [
    "pipe_base = Pipeline([\n",
    "                ('scale', MinMaxScaler()),\n",
    "                ('regressor', RandomForestRegressor())\n",
    "                ])\n",
    "\n",
    "param_base = [              \n",
    "              {'regressor': [RandomForestRegressor()],\n",
    "                'regressor__random_state':[RANDOM_SEED],\n",
    "               'scale':[MinMaxScaler(), StandardScaler(), RobustScaler()],\n",
    "              }\n",
    "             ]"
   ]
  },
  {
   "cell_type": "code",
   "execution_count": 45,
   "id": "convinced-female",
   "metadata": {},
   "outputs": [
    {
     "name": "stdout",
     "output_type": "stream",
     "text": [
      "update: 0.4261750442909026\n",
      "/ update: 0.4187871090047393\n",
      "/ update: 0.4111378095238095\n"
     ]
    }
   ],
   "source": [
    "lof_param_mms = {'scaler':MinMaxScaler(),\n",
    "            'n_neighbors':range(10, 30)}\n",
    "best_lof_data_mms, best_neighbor_param_mms = LOF_tuning(red, lof_param_mms,\n",
    "                                                        pipe_base, param_base,\n",
    "                                                       stratify=True)"
   ]
  },
  {
   "cell_type": "code",
   "execution_count": 46,
   "id": "reverse-butler",
   "metadata": {},
   "outputs": [
    {
     "name": "stdout",
     "output_type": "stream",
     "text": [
      "update: 0.4450021596244131\n",
      "/ update: 0.4362002480290548\n",
      "update: 0.43228075829383894\n",
      "update: 0.42901701466937486\n",
      "update: 0.4105966666666667\n",
      "/ update: 0.4007713328776486\n"
     ]
    }
   ],
   "source": [
    "lof_param_ss = {'scaler':StandardScaler(),\n",
    "            'n_neighbors':range(10, 30)}\n",
    "best_lof_data_ss, best_neighbor_param_ss = LOF_tuning(red, lof_param_ss,\n",
    "                                                      pipe_base, param_base,\n",
    "                                                     stratify=True)"
   ]
  },
  {
   "cell_type": "code",
   "execution_count": 47,
   "id": "upset-qatar",
   "metadata": {},
   "outputs": [
    {
     "name": "stdout",
     "output_type": "stream",
     "text": [
      "update: 0.4285350870957834\n",
      "/ / update: 0.41983281856389165\n",
      "update: 0.41827108327691265\n",
      "update: 0.4124112599681021\n"
     ]
    }
   ],
   "source": [
    "lof_param_rs = {'scaler':RobustScaler(),\n",
    "            'n_neighbors':range(10, 30)}\n",
    "best_lof_data_rs, best_neighbor_param_rs = LOF_tuning(red, lof_param_rs,\n",
    "                                                      pipe_base, param_base,\n",
    "                                                     stratify=True)"
   ]
  },
  {
   "cell_type": "code",
   "execution_count": 54,
   "id": "cloudy-toronto",
   "metadata": {},
   "outputs": [
    {
     "name": "stdout",
     "output_type": "stream",
     "text": [
      "23\n"
     ]
    }
   ],
   "source": [
    "# best n_neighbors = 23\n",
    "print(best_neighbor_param_ss)\n",
    "X_train_lof, X_test_lof, y_train_lof, y_test_lof = best_lof_data_ss"
   ]
  },
  {
   "cell_type": "code",
   "execution_count": null,
   "id": "dramatic-russian",
   "metadata": {},
   "outputs": [],
   "source": []
  },
  {
   "cell_type": "code",
   "execution_count": 56,
   "id": "eligible-helmet",
   "metadata": {},
   "outputs": [
    {
     "name": "stdout",
     "output_type": "stream",
     "text": [
      "Fitting 5 folds for each of 3 candidates, totalling 15 fits\n"
     ]
    },
    {
     "name": "stderr",
     "output_type": "stream",
     "text": [
      "[Parallel(n_jobs=-1)]: Using backend LokyBackend with 4 concurrent workers.\n",
      "[Parallel(n_jobs=-1)]: Done  15 out of  15 | elapsed:    2.9s finished\n"
     ]
    },
    {
     "name": "stdout",
     "output_type": "stream",
     "text": [
      "{'scale': StandardScaler(copy=True, with_mean=True, with_std=True), 'regressor__random_state': 2021, 'regressor': RandomForestRegressor(bootstrap=True, ccp_alpha=0.0, criterion='mse',\n",
      "                      max_depth=None, max_features='auto', max_leaf_nodes=None,\n",
      "                      max_samples=None, min_impurity_decrease=0.0,\n",
      "                      min_impurity_split=None, min_samples_leaf=1,\n",
      "                      min_samples_split=2, min_weight_fraction_leaf=0.0,\n",
      "                      n_estimators=100, n_jobs=None, oob_score=False,\n",
      "                      random_state=2021, verbose=0, warm_start=False)}\n",
      "Best CV MSE 0.4294188124128017\n",
      "Test MSE 0.37899889705882356\n"
     ]
    }
   ],
   "source": [
    "# original data (no LOF)\n",
    "# scaler opt only\n",
    "pipe_no_prep_opt = Pipeline([\n",
    "                ('scale', RobustScaler()),\n",
    "                ('regressor', RandomForestRegressor())\n",
    "                ])\n",
    "\n",
    "param_no_prep_opt = [              \n",
    "              {'regressor': [RandomForestRegressor()],\n",
    "                'regressor__random_state':[RANDOM_SEED],\n",
    "               'scale':[RobustScaler(), StandardScaler(), MinMaxScaler()],\n",
    "              }\n",
    "             ]\n",
    "\n",
    "r_grd_no_prep_opt0 = random_grid_search_with_pipeline(X_train2, X_test2, y_train2, y_test2,\n",
    "                                pipe_no_prep_opt, param_no_prep_opt, iter_num=100, seed=RANDOM_SEED)"
   ]
  },
  {
   "cell_type": "code",
   "execution_count": 55,
   "id": "adequate-province",
   "metadata": {},
   "outputs": [
    {
     "name": "stdout",
     "output_type": "stream",
     "text": [
      "Fitting 5 folds for each of 3 candidates, totalling 15 fits\n"
     ]
    },
    {
     "name": "stderr",
     "output_type": "stream",
     "text": [
      "[Parallel(n_jobs=-1)]: Using backend LokyBackend with 4 concurrent workers.\n",
      "[Parallel(n_jobs=-1)]: Done  15 out of  15 | elapsed:    2.8s finished\n"
     ]
    },
    {
     "name": "stdout",
     "output_type": "stream",
     "text": [
      "{'scale': RobustScaler(copy=True, quantile_range=(25.0, 75.0), with_centering=True,\n",
      "             with_scaling=True), 'regressor__random_state': 2021, 'regressor': RandomForestRegressor(bootstrap=True, ccp_alpha=0.0, criterion='mse',\n",
      "                      max_depth=None, max_features='auto', max_leaf_nodes=None,\n",
      "                      max_samples=None, min_impurity_decrease=0.0,\n",
      "                      min_impurity_split=None, min_samples_leaf=1,\n",
      "                      min_samples_split=2, min_weight_fraction_leaf=0.0,\n",
      "                      n_estimators=100, n_jobs=None, oob_score=False,\n",
      "                      random_state=2021, verbose=0, warm_start=False)}\n",
      "Best CV MSE 0.4007713328776486\n",
      "Test MSE 0.4452461832061068\n"
     ]
    }
   ],
   "source": [
    "# scaler opt only\n",
    "pipe_no_prep_opt = Pipeline([\n",
    "                ('scale', RobustScaler()),\n",
    "                ('regressor', RandomForestRegressor())\n",
    "                ])\n",
    "\n",
    "param_no_prep_opt = [              \n",
    "              {'regressor': [RandomForestRegressor()],\n",
    "                'regressor__random_state':[RANDOM_SEED],\n",
    "               'scale':[RobustScaler(), StandardScaler(), MinMaxScaler()],\n",
    "              }\n",
    "             ]\n",
    "\n",
    "r_grd_no_prep_opt = random_grid_search_with_pipeline(X_train_lof, X_test_lof, y_train_lof, y_test_lof,\n",
    "                                pipe_no_prep_opt, param_no_prep_opt, iter_num=100, seed=RANDOM_SEED)"
   ]
  },
  {
   "cell_type": "code",
   "execution_count": null,
   "id": "acquired-fourth",
   "metadata": {},
   "outputs": [],
   "source": []
  },
  {
   "cell_type": "code",
   "execution_count": 57,
   "id": "rural-banks",
   "metadata": {},
   "outputs": [
    {
     "data": {
      "text/plain": [
       "Text(0.5, 0, 'RandomForest Feature Importance')"
      ]
     },
     "execution_count": 57,
     "metadata": {},
     "output_type": "execute_result"
    },
    {
     "data": {
      "image/png": "[encoded data removed]",
      "text/plain": [
       "<Figure size 432x288 with 1 Axes>"
      ]
     },
     "metadata": {
      "needs_background": "light"
     },
     "output_type": "display_data"
    }
   ],
   "source": [
    "rs = RobustScaler()\n",
    "X_train_lof_rs = rs.fit_transform(X_train_lof)\n",
    "X_test_lof_rs = rs.transform(X_test_lof)\n",
    "\n",
    "rfr = RandomForestRegressor(random_state=RANDOM_SEED)\n",
    "rfr.fit(X_train_lof_rs, y_train_lof)\n",
    "\n",
    "sorted_feature_importance = rfr.feature_importances_.argsort()\n",
    "plt.barh(red.drop('quality', axis=1).columns[sorted_feature_importance], \n",
    "        cbr.feature_importances_[sorted_feature_importance], \n",
    "        color='turquoise')\n",
    "plt.xlabel(\"RandomForest Feature Importance\")"
   ]
  },
  {
   "cell_type": "code",
   "execution_count": null,
   "id": "comprehensive-tribe",
   "metadata": {},
   "outputs": [],
   "source": []
  },
  {
   "cell_type": "code",
   "execution_count": 59,
   "id": "acquired-article",
   "metadata": {},
   "outputs": [],
   "source": [
    "reg = RandomForestRegressor(random_state=RANDOM_SEED)\n",
    "\n",
    "param_randomforest = [              \n",
    "              {'n_estimators': Integer(100, 1001),\n",
    "               'max_features': ['auto', 'sqrt'],\n",
    "               'max_depth': Integer(3, 31),\n",
    "               'min_samples_split': Integer(2, 11),\n",
    "               'min_samples_leaf': Integer(1, 5),\n",
    "               'bootstrap' : [True, False]\n",
    "               }\n",
    "             ]\n",
    "\n",
    "skf = StratifiedKFold(n_splits=5,\n",
    "                      shuffle=True,\n",
    "                      random_state=RANDOM_SEED)\n",
    "\n",
    "mse = make_scorer(mean_squared_error, greater_is_better=False)\n",
    "\n",
    "opt = BayesSearchCV(reg,\n",
    "                    param_randomforest,\n",
    "                     scoring=mse,\n",
    "                    cv=skf,\n",
    "                    n_iter=100,\n",
    "                    n_jobs=1,  # use just 1 job with CatBoost in order to avoid segmentation fault\n",
    "                    return_train_score=False,\n",
    "                    refit=True,\n",
    "                    optimizer_kwargs={'base_estimator': 'GP'},\n",
    "                    random_state=RANDOM_SEED,\n",
    "                   verbose=0)"
   ]
  },
  {
   "cell_type": "code",
   "execution_count": 60,
   "id": "democratic-kitchen",
   "metadata": {},
   "outputs": [
    {
     "name": "stdout",
     "output_type": "stream",
     "text": [
      "Iteration No: 1 started. Searching for the next optimal point.\n",
      "Iteration No: 1 ended. Search finished for the next optimal point.\n",
      "Time taken: 9.0094\n",
      "Function value obtained: 0.5059\n",
      "Current minimum: 0.5059\n",
      "Iteration No: 2 started. Searching for the next optimal point.\n",
      "Iteration No: 2 ended. Search finished for the next optimal point.\n",
      "Time taken: 1.6345\n",
      "Function value obtained: 0.4056\n",
      "Current minimum: 0.4056\n",
      "Iteration No: 3 started. Searching for the next optimal point.\n",
      "Iteration No: 3 ended. Search finished for the next optimal point.\n",
      "Time taken: 4.5644\n",
      "Function value obtained: 0.3991\n",
      "Current minimum: 0.3991\n",
      "Iteration No: 4 started. Searching for the next optimal point.\n",
      "Iteration No: 4 ended. Search finished for the next optimal point.\n",
      "Time taken: 2.4395\n",
      "Function value obtained: 0.4035\n",
      "Current minimum: 0.3991\n",
      "Iteration No: 5 started. Searching for the next optimal point.\n",
      "Iteration No: 5 ended. Search finished for the next optimal point.\n",
      "Time taken: 14.4323\n",
      "Function value obtained: 0.3999\n",
      "Current minimum: 0.3991\n",
      "Iteration No: 6 started. Searching for the next optimal point.\n",
      "Iteration No: 6 ended. Search finished for the next optimal point.\n",
      "Time taken: 16.1366\n",
      "Function value obtained: 0.5426\n",
      "Current minimum: 0.3991\n",
      "Iteration No: 7 started. Searching for the next optimal point.\n",
      "Iteration No: 7 ended. Search finished for the next optimal point.\n",
      "Time taken: 11.0988\n",
      "Function value obtained: 0.4349\n",
      "Current minimum: 0.3991\n",
      "Iteration No: 8 started. Searching for the next optimal point.\n",
      "Iteration No: 8 ended. Search finished for the next optimal point.\n",
      "Time taken: 4.5679\n",
      "Function value obtained: 0.4197\n",
      "Current minimum: 0.3991\n",
      "Iteration No: 9 started. Searching for the next optimal point.\n",
      "Iteration No: 9 ended. Search finished for the next optimal point.\n",
      "Time taken: 3.1757\n",
      "Function value obtained: 0.4025\n",
      "Current minimum: 0.3991\n",
      "Iteration No: 10 started. Searching for the next optimal point.\n",
      "Iteration No: 10 ended. Search finished for the next optimal point.\n",
      "Time taken: 7.9192\n",
      "Function value obtained: 0.6489\n",
      "Current minimum: 0.3991\n",
      "Iteration No: 11 started. Searching for the next optimal point.\n",
      "Iteration No: 11 ended. Search finished for the next optimal point.\n",
      "Time taken: 6.7561\n",
      "Function value obtained: 0.4022\n",
      "Current minimum: 0.3991\n",
      "Iteration No: 12 started. Searching for the next optimal point.\n",
      "Iteration No: 12 ended. Search finished for the next optimal point.\n",
      "Time taken: 6.0909\n",
      "Function value obtained: 0.4544\n",
      "Current minimum: 0.3991\n",
      "Iteration No: 13 started. Searching for the next optimal point.\n",
      "Iteration No: 13 ended. Search finished for the next optimal point.\n",
      "Time taken: 2.6448\n",
      "Function value obtained: 0.4560\n",
      "Current minimum: 0.3991\n",
      "Iteration No: 14 started. Searching for the next optimal point.\n",
      "Iteration No: 14 ended. Search finished for the next optimal point.\n",
      "Time taken: 12.7022\n",
      "Function value obtained: 0.4019\n",
      "Current minimum: 0.3991\n",
      "Iteration No: 15 started. Searching for the next optimal point.\n",
      "Iteration No: 15 ended. Search finished for the next optimal point.\n",
      "Time taken: 9.0854\n",
      "Function value obtained: 0.4489\n",
      "Current minimum: 0.3991\n",
      "Iteration No: 16 started. Searching for the next optimal point.\n",
      "Iteration No: 16 ended. Search finished for the next optimal point.\n",
      "Time taken: 12.7812\n",
      "Function value obtained: 0.3964\n",
      "Current minimum: 0.3964\n",
      "Iteration No: 17 started. Searching for the next optimal point.\n",
      "Iteration No: 17 ended. Search finished for the next optimal point.\n",
      "Time taken: 2.4623\n",
      "Function value obtained: 0.4037\n",
      "Current minimum: 0.3964\n",
      "Iteration No: 18 started. Searching for the next optimal point.\n",
      "Iteration No: 18 ended. Search finished for the next optimal point.\n",
      "Time taken: 21.5685\n",
      "Function value obtained: 0.3991\n",
      "Current minimum: 0.3964\n",
      "Iteration No: 19 started. Searching for the next optimal point.\n",
      "Iteration No: 19 ended. Search finished for the next optimal point.\n",
      "Time taken: 2.1517\n",
      "Function value obtained: 0.4038\n",
      "Current minimum: 0.3964\n",
      "Iteration No: 20 started. Searching for the next optimal point.\n",
      "Iteration No: 20 ended. Search finished for the next optimal point.\n",
      "Time taken: 3.2358\n",
      "Function value obtained: 0.4032\n",
      "Current minimum: 0.3964\n",
      "Iteration No: 21 started. Searching for the next optimal point.\n",
      "Iteration No: 21 ended. Search finished for the next optimal point.\n",
      "Time taken: 3.3099\n",
      "Function value obtained: 0.4058\n",
      "Current minimum: 0.3964\n",
      "Iteration No: 22 started. Searching for the next optimal point.\n",
      "Iteration No: 22 ended. Search finished for the next optimal point.\n",
      "Time taken: 10.8912\n",
      "Function value obtained: 0.3966\n",
      "Current minimum: 0.3964\n",
      "Iteration No: 23 started. Searching for the next optimal point.\n",
      "Iteration No: 23 ended. Search finished for the next optimal point.\n",
      "Time taken: 12.0427\n",
      "Function value obtained: 0.4014\n",
      "Current minimum: 0.3964\n",
      "Iteration No: 24 started. Searching for the next optimal point.\n",
      "Iteration No: 24 ended. Search finished for the next optimal point.\n",
      "Time taken: 12.6897\n",
      "Function value obtained: 0.3966\n",
      "Current minimum: 0.3964\n",
      "Iteration No: 25 started. Searching for the next optimal point.\n",
      "Iteration No: 25 ended. Search finished for the next optimal point.\n",
      "Time taken: 11.9614\n",
      "Function value obtained: 0.3967\n",
      "Current minimum: 0.3964\n",
      "Iteration No: 26 started. Searching for the next optimal point.\n",
      "Iteration No: 26 ended. Search finished for the next optimal point.\n",
      "Time taken: 2.3880\n",
      "Function value obtained: 0.4035\n",
      "Current minimum: 0.3964\n",
      "Iteration No: 27 started. Searching for the next optimal point.\n",
      "Iteration No: 27 ended. Search finished for the next optimal point.\n",
      "Time taken: 2.3468\n",
      "Function value obtained: 0.4016\n",
      "Current minimum: 0.3964\n",
      "Iteration No: 28 started. Searching for the next optimal point.\n",
      "Iteration No: 28 ended. Search finished for the next optimal point.\n",
      "Time taken: 2.8709\n",
      "Function value obtained: 0.4031\n",
      "Current minimum: 0.3964\n",
      "Iteration No: 29 started. Searching for the next optimal point.\n",
      "Iteration No: 29 ended. Search finished for the next optimal point.\n",
      "Time taken: 3.2642\n",
      "Function value obtained: 0.4058\n",
      "Current minimum: 0.3964\n",
      "Iteration No: 30 started. Searching for the next optimal point.\n",
      "Iteration No: 30 ended. Search finished for the next optimal point.\n",
      "Time taken: 12.9045\n",
      "Function value obtained: 0.3964\n",
      "Current minimum: 0.3964\n",
      "Iteration No: 31 started. Searching for the next optimal point.\n",
      "Iteration No: 31 ended. Search finished for the next optimal point.\n",
      "Time taken: 13.7007\n",
      "Function value obtained: 0.3967\n",
      "Current minimum: 0.3964\n",
      "Iteration No: 32 started. Searching for the next optimal point.\n",
      "Iteration No: 32 ended. Search finished for the next optimal point.\n",
      "Time taken: 17.2607\n",
      "Function value obtained: 0.4000\n",
      "Current minimum: 0.3964\n",
      "Iteration No: 33 started. Searching for the next optimal point.\n",
      "Iteration No: 33 ended. Search finished for the next optimal point.\n",
      "Time taken: 9.5051\n",
      "Function value obtained: 0.4005\n",
      "Current minimum: 0.3964\n",
      "Iteration No: 34 started. Searching for the next optimal point.\n",
      "Iteration No: 34 ended. Search finished for the next optimal point.\n",
      "Time taken: 9.2423\n",
      "Function value obtained: 0.4023\n",
      "Current minimum: 0.3964\n",
      "Iteration No: 35 started. Searching for the next optimal point.\n",
      "Iteration No: 35 ended. Search finished for the next optimal point.\n",
      "Time taken: 11.2093\n",
      "Function value obtained: 0.4000\n",
      "Current minimum: 0.3964\n",
      "Iteration No: 36 started. Searching for the next optimal point.\n",
      "Iteration No: 36 ended. Search finished for the next optimal point.\n",
      "Time taken: 2.8455\n",
      "Function value obtained: 0.4031\n",
      "Current minimum: 0.3964\n",
      "Iteration No: 37 started. Searching for the next optimal point.\n",
      "Iteration No: 37 ended. Search finished for the next optimal point.\n",
      "Time taken: 14.7570\n",
      "Function value obtained: 0.4004\n",
      "Current minimum: 0.3964\n",
      "Iteration No: 38 started. Searching for the next optimal point.\n",
      "Iteration No: 38 ended. Search finished for the next optimal point.\n",
      "Time taken: 13.9156\n",
      "Function value obtained: 0.4017\n",
      "Current minimum: 0.3964\n",
      "Iteration No: 39 started. Searching for the next optimal point.\n",
      "Iteration No: 39 ended. Search finished for the next optimal point.\n",
      "Time taken: 9.6009\n",
      "Function value obtained: 0.4020\n",
      "Current minimum: 0.3964\n",
      "Iteration No: 40 started. Searching for the next optimal point.\n",
      "Iteration No: 40 ended. Search finished for the next optimal point.\n",
      "Time taken: 12.4616\n",
      "Function value obtained: 0.3966\n",
      "Current minimum: 0.3964\n",
      "Iteration No: 41 started. Searching for the next optimal point.\n"
     ]
    },
    {
     "name": "stdout",
     "output_type": "stream",
     "text": [
      "Iteration No: 41 ended. Search finished for the next optimal point.\n",
      "Time taken: 12.6801\n",
      "Function value obtained: 0.3967\n",
      "Current minimum: 0.3964\n",
      "Iteration No: 42 started. Searching for the next optimal point.\n",
      "Iteration No: 42 ended. Search finished for the next optimal point.\n",
      "Time taken: 2.6782\n",
      "Function value obtained: 0.4027\n",
      "Current minimum: 0.3964\n",
      "Iteration No: 43 started. Searching for the next optimal point.\n",
      "Iteration No: 43 ended. Search finished for the next optimal point.\n",
      "Time taken: 10.9899\n",
      "Function value obtained: 0.3999\n",
      "Current minimum: 0.3964\n",
      "Iteration No: 44 started. Searching for the next optimal point.\n",
      "Iteration No: 44 ended. Search finished for the next optimal point.\n",
      "Time taken: 3.7360\n",
      "Function value obtained: 0.4028\n",
      "Current minimum: 0.3964\n",
      "Iteration No: 45 started. Searching for the next optimal point.\n",
      "Iteration No: 45 ended. Search finished for the next optimal point.\n",
      "Time taken: 19.1121\n",
      "Function value obtained: 0.3981\n",
      "Current minimum: 0.3964\n",
      "Iteration No: 46 started. Searching for the next optimal point.\n",
      "Iteration No: 46 ended. Search finished for the next optimal point.\n",
      "Time taken: 18.3519\n",
      "Function value obtained: 0.4006\n",
      "Current minimum: 0.3964\n",
      "Iteration No: 47 started. Searching for the next optimal point.\n",
      "Iteration No: 47 ended. Search finished for the next optimal point.\n",
      "Time taken: 19.9361\n",
      "Function value obtained: 0.4010\n",
      "Current minimum: 0.3964\n",
      "Iteration No: 48 started. Searching for the next optimal point.\n",
      "Iteration No: 48 ended. Search finished for the next optimal point.\n",
      "Time taken: 11.9228\n",
      "Function value obtained: 0.3964\n",
      "Current minimum: 0.3964\n",
      "Iteration No: 49 started. Searching for the next optimal point.\n",
      "Iteration No: 49 ended. Search finished for the next optimal point.\n",
      "Time taken: 12.1376\n",
      "Function value obtained: 0.3964\n",
      "Current minimum: 0.3964\n",
      "Iteration No: 50 started. Searching for the next optimal point.\n",
      "Iteration No: 50 ended. Search finished for the next optimal point.\n",
      "Time taken: 12.6320\n",
      "Function value obtained: 0.3964\n",
      "Current minimum: 0.3964\n",
      "Iteration No: 51 started. Searching for the next optimal point.\n",
      "Iteration No: 51 ended. Search finished for the next optimal point.\n",
      "Time taken: 10.2432\n",
      "Function value obtained: 0.4002\n",
      "Current minimum: 0.3964\n",
      "Iteration No: 52 started. Searching for the next optimal point.\n",
      "Iteration No: 52 ended. Search finished for the next optimal point.\n",
      "Time taken: 10.7436\n",
      "Function value obtained: 0.4003\n",
      "Current minimum: 0.3964\n",
      "Iteration No: 53 started. Searching for the next optimal point.\n",
      "Iteration No: 53 ended. Search finished for the next optimal point.\n",
      "Time taken: 11.9115\n",
      "Function value obtained: 0.3978\n",
      "Current minimum: 0.3964\n",
      "Iteration No: 54 started. Searching for the next optimal point.\n",
      "Iteration No: 54 ended. Search finished for the next optimal point.\n",
      "Time taken: 10.3901\n",
      "Function value obtained: 0.4018\n",
      "Current minimum: 0.3964\n",
      "Iteration No: 55 started. Searching for the next optimal point.\n",
      "Iteration No: 55 ended. Search finished for the next optimal point.\n",
      "Time taken: 14.1858\n",
      "Function value obtained: 0.3966\n",
      "Current minimum: 0.3964\n",
      "Iteration No: 56 started. Searching for the next optimal point.\n",
      "Iteration No: 56 ended. Search finished for the next optimal point.\n",
      "Time taken: 17.3947\n",
      "Function value obtained: 0.4010\n",
      "Current minimum: 0.3964\n",
      "Iteration No: 57 started. Searching for the next optimal point.\n",
      "Iteration No: 57 ended. Search finished for the next optimal point.\n",
      "Time taken: 19.0099\n",
      "Function value obtained: 0.4002\n",
      "Current minimum: 0.3964\n",
      "Iteration No: 58 started. Searching for the next optimal point.\n",
      "Iteration No: 58 ended. Search finished for the next optimal point.\n",
      "Time taken: 11.0833\n",
      "Function value obtained: 0.3998\n",
      "Current minimum: 0.3964\n",
      "Iteration No: 59 started. Searching for the next optimal point.\n",
      "Iteration No: 59 ended. Search finished for the next optimal point.\n",
      "Time taken: 11.5508\n",
      "Function value obtained: 0.4000\n",
      "Current minimum: 0.3964\n",
      "Iteration No: 60 started. Searching for the next optimal point.\n",
      "RandomForest - candidates checked: 59, best CV score: -0.396 ± 0.035\n",
      "Best parameters:\n",
      "OrderedDict([('bootstrap', True),\n",
      "             ('max_depth', 22),\n",
      "             ('max_features', 'sqrt'),\n",
      "             ('min_samples_leaf', 1),\n",
      "             ('min_samples_split', 2),\n",
      "             ('n_estimators', 1001)])\n"
     ]
    }
   ],
   "source": [
    "optimizer, best_params = report_perf(opt, X_train_lof_rs, y_train_lof,'RandomForest', \n",
    "                          callbacks=[VerboseCallback(100), \n",
    "                                     DeadlineStopper(60*10)])"
   ]
  },
  {
   "cell_type": "code",
   "execution_count": 61,
   "id": "surrounded-camera",
   "metadata": {},
   "outputs": [
    {
     "name": "stdout",
     "output_type": "stream",
     "text": [
      "0.48410370684888615\n"
     ]
    }
   ],
   "source": [
    "best_reg_rf = RandomForestRegressor(**best_params,\n",
    "                       random_state=RANDOM_SEED)\n",
    "\n",
    "best_reg_rf.fit(X_train_lof_rs, y_train_lof)\n",
    "best_pred_rf = best_reg.predict(X_test_lof_rs)\n",
    "\n",
    "print(np.mean(np.square(best_pred_rf - y_test_lof)))"
   ]
  },
  {
   "cell_type": "code",
   "execution_count": null,
   "id": "plastic-brooks",
   "metadata": {},
   "outputs": [],
   "source": []
  },
  {
   "cell_type": "markdown",
   "id": "hindu-technical",
   "metadata": {},
   "source": [
    "### Result Analysis"
   ]
  },
  {
   "cell_type": "code",
   "execution_count": 62,
   "id": "black-arlington",
   "metadata": {},
   "outputs": [
    {
     "name": "stdout",
     "output_type": "stream",
     "text": [
      "0.5687022900763359\n"
     ]
    },
    {
     "data": {
      "text/html": [
       "<div>\n",
       "<style scoped>\n",
       "    .dataframe tbody tr th:only-of-type {\n",
       "        vertical-align: middle;\n",
       "    }\n",
       "\n",
       "    .dataframe tbody tr th {\n",
       "        vertical-align: top;\n",
       "    }\n",
       "\n",
       "    .dataframe thead th {\n",
       "        text-align: right;\n",
       "    }\n",
       "</style>\n",
       "<table border=\"1\" class=\"dataframe\">\n",
       "  <thead>\n",
       "    <tr style=\"text-align: right;\">\n",
       "      <th></th>\n",
       "      <th>accuracy</th>\n",
       "      <th>mse_by_target</th>\n",
       "    </tr>\n",
       "  </thead>\n",
       "  <tbody>\n",
       "    <tr>\n",
       "      <th>3</th>\n",
       "      <td>0.000000</td>\n",
       "      <td>3.817969</td>\n",
       "    </tr>\n",
       "    <tr>\n",
       "      <th>4</th>\n",
       "      <td>0.000000</td>\n",
       "      <td>2.082316</td>\n",
       "    </tr>\n",
       "    <tr>\n",
       "      <th>5</th>\n",
       "      <td>0.794643</td>\n",
       "      <td>0.216085</td>\n",
       "    </tr>\n",
       "    <tr>\n",
       "      <th>6</th>\n",
       "      <td>0.504854</td>\n",
       "      <td>0.328223</td>\n",
       "    </tr>\n",
       "    <tr>\n",
       "      <th>7</th>\n",
       "      <td>0.250000</td>\n",
       "      <td>0.960480</td>\n",
       "    </tr>\n",
       "    <tr>\n",
       "      <th>8</th>\n",
       "      <td>0.000000</td>\n",
       "      <td>3.210739</td>\n",
       "    </tr>\n",
       "  </tbody>\n",
       "</table>\n",
       "</div>"
      ],
      "text/plain": [
       "   accuracy  mse_by_target\n",
       "3  0.000000       3.817969\n",
       "4  0.000000       2.082316\n",
       "5  0.794643       0.216085\n",
       "6  0.504854       0.328223\n",
       "7  0.250000       0.960480\n",
       "8  0.000000       3.210739"
      ]
     },
     "execution_count": 62,
     "metadata": {},
     "output_type": "execute_result"
    }
   ],
   "source": [
    "df_acc_rf, acc_rf = result_analysis(best_pred_rf, y_test_lof)\n",
    "\n",
    "print(acc_rf)\n",
    "df_acc_rf"
   ]
  },
  {
   "cell_type": "code",
   "execution_count": null,
   "id": "varied-manhattan",
   "metadata": {},
   "outputs": [],
   "source": []
  },
  {
   "cell_type": "code",
   "execution_count": null,
   "id": "demonstrated-paintball",
   "metadata": {},
   "outputs": [],
   "source": []
  }
 ],
 "metadata": {
  "kernelspec": {
   "display_name": "Python 3",
   "language": "python",
   "name": "python3"
  },
  "language_info": {
   "codemirror_mode": {
    "name": "ipython",
    "version": 3
   },
   "file_extension": ".py",
   "mimetype": "text/x-python",
   "name": "python",
   "nbconvert_exporter": "python",
   "pygments_lexer": "ipython3",
   "version": "3.7.9"
  }
 },
 "nbformat": 4,
 "nbformat_minor": 5
}
